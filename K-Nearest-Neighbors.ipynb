{
  "nbformat": 4,
  "nbformat_minor": 0,
  "metadata": {
    "colab": {
      "provenance": [],
      "collapsed_sections": []
    },
    "kernelspec": {
      "name": "python3",
      "display_name": "Python 3"
    }
  },
  "cells": [
    {
      "cell_type": "markdown",
      "metadata": {
        "id": "BRXusPhYCMOv"
      },
      "source": [
        "# Load the data\n",
        "\n",
        "You can download CIFAR10 dataset from official site:\n",
        "\n",
        "https://www.cs.toronto.edu/~kriz/cifar.html\n",
        "\n",
        "or do it using Pytorch:\n",
        "https://pytorch.org/vision/stable/datasets.html#cifar\n",
        "\n",
        "or another framework.\n",
        "\n"
      ]
    },
    {
      "cell_type": "code",
      "source": [
        "import tensorflow as tf\n",
        "from tensorflow.keras import datasets, layers, models\n",
        "import matplotlib.pyplot as plt\n",
        "import numpy as np\n",
        "import pdb\n",
        "import random"
      ],
      "metadata": {
        "id": "o2IPc11jgB_z"
      },
      "execution_count": 2,
      "outputs": []
    },
    {
      "cell_type": "code",
      "metadata": {
        "id": "kUHLgFWQ6xBq",
        "colab": {
          "base_uri": "https://localhost:8080/"
        },
        "outputId": "a5b56fe2-4b3e-447b-ec40-653703e1bee3"
      },
      "source": [
        "(x_train, y_train), (x_test, y_test) = datasets.cifar10.load_data()\n",
        "x_train = x_train[0:5000]\n",
        "y_train = y_train[0:5000]\n",
        "x_test = x_test[0:500]\n",
        "y_test = y_test[0:500]\n",
        "classes = ['Самолет', 'Автомобиль', 'Птица', 'Кошка', 'Олень', 'Собака', 'Лягушка', 'Лошадь', 'Корабль', 'Грузовик']"
      ],
      "execution_count": 3,
      "outputs": [
        {
          "output_type": "stream",
          "name": "stdout",
          "text": [
            "Downloading data from https://www.cs.toronto.edu/~kriz/cifar-10-python.tar.gz\n",
            "170500096/170498071 [==============================] - 8s 0us/step\n",
            "170508288/170498071 [==============================] - 8s 0us/step\n"
          ]
        }
      ]
    },
    {
      "cell_type": "markdown",
      "metadata": {
        "id": "WWDRnugWCDsU"
      },
      "source": [
        "## Dispaly some images  along with it class names\n",
        "  \n"
      ]
    },
    {
      "cell_type": "code",
      "source": [
        "plt.imshow(x_train[random.choice([i for i, x in enumerate(y_train) if x == classes.index('Самолет')])])"
      ],
      "metadata": {
        "colab": {
          "base_uri": "https://localhost:8080/",
          "height": 283
        },
        "id": "hOw3Q3AAgOmB",
        "outputId": "c8e4ff85-20a4-4f18-c43f-9f2c92dddd57"
      },
      "execution_count": null,
      "outputs": [
        {
          "output_type": "execute_result",
          "data": {
            "text/plain": [
              "<matplotlib.image.AxesImage at 0x7fb84e791910>"
            ]
          },
          "metadata": {},
          "execution_count": 21
        },
        {
          "output_type": "display_data",
          "data": {
            "text/plain": [
              "<Figure size 432x288 with 1 Axes>"
            ],
            "image/png": "[encoded data removed]"
          },
          "metadata": {
            "needs_background": "light"
          }
        }
      ]
    },
    {
      "cell_type": "code",
      "source": [
        "plt.imshow(x_train[random.choice([i for i, x in enumerate(y_train) if x == classes.index('Корабль')])])"
      ],
      "metadata": {
        "colab": {
          "base_uri": "https://localhost:8080/",
          "height": 283
        },
        "id": "ID-OAcPQkhs1",
        "outputId": "2045801b-fd86-4747-af36-317f2c939f66"
      },
      "execution_count": null,
      "outputs": [
        {
          "output_type": "execute_result",
          "data": {
            "text/plain": [
              "<matplotlib.image.AxesImage at 0x7fb84e455390>"
            ]
          },
          "metadata": {},
          "execution_count": 30
        },
        {
          "output_type": "display_data",
          "data": {
            "text/plain": [
              "<Figure size 432x288 with 1 Axes>"
            ],
            "image/png": "[encoded data removed]"
          },
          "metadata": {
            "needs_background": "light"
          }
        }
      ]
    },
    {
      "cell_type": "code",
      "source": [
        "plt.imshow(x_train[random.choice([i for i, x in enumerate(y_train) if x == classes.index('Олень')])])"
      ],
      "metadata": {
        "colab": {
          "base_uri": "https://localhost:8080/",
          "height": 283
        },
        "id": "lmgfsnbylOhR",
        "outputId": "2bd7d41a-9865-4637-c07e-d41cdc57534b"
      },
      "execution_count": null,
      "outputs": [
        {
          "output_type": "execute_result",
          "data": {
            "text/plain": [
              "<matplotlib.image.AxesImage at 0x7fb84e3c5690>"
            ]
          },
          "metadata": {},
          "execution_count": 31
        },
        {
          "output_type": "display_data",
          "data": {
            "text/plain": [
              "<Figure size 432x288 with 1 Axes>"
            ],
            "image/png": "[encoded data removed]"
          },
          "metadata": {
            "needs_background": "light"
          }
        }
      ]
    },
    {
      "cell_type": "markdown",
      "metadata": {
        "id": "gVVCDZnvCoZI"
      },
      "source": [
        "# Implement NearestNeighbor class"
      ]
    },
    {
      "cell_type": "code",
      "metadata": {
        "id": "39EG-F_O8kbm"
      },
      "source": [
        "class KNearestNeighbors:\n",
        "  def __init__(self, k):\n",
        "    self.K = k\n",
        "    pass\n",
        "\n",
        "  def fit(self, x, y):\n",
        "    self.X = x\n",
        "    self.Y = y\n",
        "    pass\n",
        "  \n",
        "  def predict(self, x):\n",
        "    test = x.shape[0]\n",
        "    labels = np.zeros(test, dtype=self.Y.dtype)\n",
        "    distances = []\n",
        "    for i in range(test):\n",
        "      distances = np.sum(np.abs(x_train - x_test[i]), axis=1)\n",
        "      labels[i] = np.argmax(np.bincount(y_train[np.argsort(distances)[0:self.K]].flatten()))\n",
        "    return labels"
      ],
      "execution_count": 4,
      "outputs": []
    },
    {
      "cell_type": "markdown",
      "metadata": {
        "id": "wHkxc21JCsmb"
      },
      "source": [
        "##Perform smoke test\n",
        "\n",
        "- Create model instance\n",
        "- get predictions for dozen of samples\n"
      ]
    },
    {
      "cell_type": "code",
      "source": [
        "x_train = np.reshape(x_train, (x_train.shape[0], -1))\n",
        "x_test = np.reshape(x_test, (x_test.shape[0], -1))"
      ],
      "metadata": {
        "id": "zBR8J1I8IlYF"
      },
      "execution_count": 5,
      "outputs": []
    },
    {
      "cell_type": "code",
      "source": [
        "knn = KNearestNeighbors(1)\n",
        "knn.fit(x_train, y_train)\n",
        "predicted = knn.predict(x_test)"
      ],
      "metadata": {
        "id": "IKGzurSe9KZw"
      },
      "execution_count": 187,
      "outputs": []
    },
    {
      "cell_type": "code",
      "source": [
        "for i, j in zip(predicted[0:12], y_test.flatten()[0:12]):\n",
        "  print(classes[predicted[i]] == classes[j], '\\t:', classes[predicted[i]], 'vs', classes[j])"
      ],
      "metadata": {
        "colab": {
          "base_uri": "https://localhost:8080/"
        },
        "id": "n5gs0xCm_oaN",
        "outputId": "f4fd63dd-ce71-4faa-edc9-68bb89727e46"
      },
      "execution_count": 189,
      "outputs": [
        {
          "output_type": "stream",
          "name": "stdout",
          "text": [
            "False \t: Самолет vs Кошка\n",
            "True \t: Корабль vs Корабль\n",
            "False \t: Самолет vs Корабль\n",
            "True \t: Самолет vs Самолет\n",
            "False \t: Птица vs Лягушка\n",
            "False \t: Корабль vs Лягушка\n",
            "False \t: Корабль vs Автомобиль\n",
            "True \t: Лягушка vs Лягушка\n",
            "False \t: Самолет vs Кошка\n",
            "False \t: Самолет vs Автомобиль\n",
            "True \t: Самолет vs Самолет\n",
            "False \t: Самолет vs Грузовик\n"
          ]
        }
      ]
    },
    {
      "cell_type": "markdown",
      "metadata": {
        "id": "jXd1XtQTCzi7"
      },
      "source": [
        "# Validate your model"
      ]
    },
    {
      "cell_type": "markdown",
      "metadata": {
        "id": "Nn9rKA56C49-"
      },
      "source": [
        "## Create validation function\n",
        "\n",
        "Must calculate Accuracy metric for your model."
      ]
    },
    {
      "cell_type": "code",
      "source": [
        "def validate(predict, ytest):\n",
        "    return np.sum(predict == ytest.flatten()) / 500.0"
      ],
      "metadata": {
        "id": "RoYfk4Dc9uhx"
      },
      "execution_count": 131,
      "outputs": []
    },
    {
      "cell_type": "markdown",
      "metadata": {
        "id": "vjKQEAthEKxl"
      },
      "source": [
        " ## Calculate model accuracy on validation data"
      ]
    },
    {
      "cell_type": "code",
      "source": [
        "validate(predicted, y_test)"
      ],
      "metadata": {
        "colab": {
          "base_uri": "https://localhost:8080/"
        },
        "id": "-LJu6c2d9v-F",
        "outputId": "0f53c9b9-f52c-410e-d922-103ff895dd20"
      },
      "execution_count": 188,
      "outputs": [
        {
          "output_type": "execute_result",
          "data": {
            "text/plain": [
              "0.224"
            ]
          },
          "metadata": {},
          "execution_count": 188
        }
      ]
    },
    {
      "cell_type": "markdown",
      "metadata": {
        "id": "ZsImxpggG8bH"
      },
      "source": [
        "# Place for brief conclusion\n",
        "Feel free to describe troubles here.\n",
        "\n",
        "\n",
        "KNN alghoritm was implemented.\n",
        "Surprisingly, one neighbor gives the largest accuracy.\n",
        "\n",
        "But maybe, it is fixable by implementatation of more complex label defining (like taking distance in regard)."
      ]
    },
    {
      "cell_type": "markdown",
      "metadata": {
        "id": "lJ13OmfCEb1w"
      },
      "source": [
        "# Ideas for extra work\n",
        "\n",
        "- Implenment K-NearestNeighbor\n",
        "- Test different distance functions\n",
        "- Find hyperparams using Cross-Validation\n",
        "- Plot accuracy curve against K\n",
        "- Evaluate time  "
      ]
    }
  ]
}