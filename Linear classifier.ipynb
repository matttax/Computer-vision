{
  "nbformat": 4,
  "nbformat_minor": 0,
  "metadata": {
    "colab": {
      "provenance": []
    },
    "kernelspec": {
      "name": "python3",
      "display_name": "Python 3"
    },
    "widgets": {
      "application/vnd.jupyter.widget-state+json": {
        "33ffcf917560498591677fb4f9681a42": {
          "model_module": "@jupyter-widgets/controls",
          "model_name": "HBoxModel",
          "model_module_version": "1.5.0",
          "state": {
            "_dom_classes": [],
            "_model_module": "@jupyter-widgets/controls",
            "_model_module_version": "1.5.0",
            "_model_name": "HBoxModel",
            "_view_count": null,
            "_view_module": "@jupyter-widgets/controls",
            "_view_module_version": "1.5.0",
            "_view_name": "HBoxView",
            "box_style": "",
            "children": [
              "IPY_MODEL_6e403e7efc6948808a9f8604cef926d9",
              "IPY_MODEL_58eb846f906a486a9547df0df9581b2c",
              "IPY_MODEL_a38b9bb3eba74687a7dfcc9accebc6ca"
            ],
            "layout": "IPY_MODEL_f3c485e6ed0d49d58cdd01ebbf10ced7"
          }
        },
        "6e403e7efc6948808a9f8604cef926d9": {
          "model_module": "@jupyter-widgets/controls",
          "model_name": "HTMLModel",
          "model_module_version": "1.5.0",
          "state": {
            "_dom_classes": [],
            "_model_module": "@jupyter-widgets/controls",
            "_model_module_version": "1.5.0",
            "_model_name": "HTMLModel",
            "_view_count": null,
            "_view_module": "@jupyter-widgets/controls",
            "_view_module_version": "1.5.0",
            "_view_name": "HTMLView",
            "description": "",
            "description_tooltip": null,
            "layout": "IPY_MODEL_db3e2e207e9b4941a97f289e184c13ae",
            "placeholder": "​",
            "style": "IPY_MODEL_3036d070a16145f7825bcbdc74ab085d",
            "value": "100%"
          }
        },
        "58eb846f906a486a9547df0df9581b2c": {
          "model_module": "@jupyter-widgets/controls",
          "model_name": "FloatProgressModel",
          "model_module_version": "1.5.0",
          "state": {
            "_dom_classes": [],
            "_model_module": "@jupyter-widgets/controls",
            "_model_module_version": "1.5.0",
            "_model_name": "FloatProgressModel",
            "_view_count": null,
            "_view_module": "@jupyter-widgets/controls",
            "_view_module_version": "1.5.0",
            "_view_name": "ProgressView",
            "bar_style": "success",
            "description": "",
            "description_tooltip": null,
            "layout": "IPY_MODEL_22354b342ab649a781af231cfacca6b8",
            "max": 170498071,
            "min": 0,
            "orientation": "horizontal",
            "style": "IPY_MODEL_40e3e9bbef2f4d228c49613f29093a70",
            "value": 170498071
          }
        },
        "a38b9bb3eba74687a7dfcc9accebc6ca": {
          "model_module": "@jupyter-widgets/controls",
          "model_name": "HTMLModel",
          "model_module_version": "1.5.0",
          "state": {
            "_dom_classes": [],
            "_model_module": "@jupyter-widgets/controls",
            "_model_module_version": "1.5.0",
            "_model_name": "HTMLModel",
            "_view_count": null,
            "_view_module": "@jupyter-widgets/controls",
            "_view_module_version": "1.5.0",
            "_view_name": "HTMLView",
            "description": "",
            "description_tooltip": null,
            "layout": "IPY_MODEL_7ab82b85fc3944e4aef5b911cd4c9b2b",
            "placeholder": "​",
            "style": "IPY_MODEL_414ab65bb29a4ca9a4c93260d6cec6d0",
            "value": " 170498071/170498071 [00:02&lt;00:00, 86200972.78it/s]"
          }
        },
        "f3c485e6ed0d49d58cdd01ebbf10ced7": {
          "model_module": "@jupyter-widgets/base",
          "model_name": "LayoutModel",
          "model_module_version": "1.2.0",
          "state": {
            "_model_module": "@jupyter-widgets/base",
            "_model_module_version": "1.2.0",
            "_model_name": "LayoutModel",
            "_view_count": null,
            "_view_module": "@jupyter-widgets/base",
            "_view_module_version": "1.2.0",
            "_view_name": "LayoutView",
            "align_content": null,
            "align_items": null,
            "align_self": null,
            "border": null,
            "bottom": null,
            "display": null,
            "flex": null,
            "flex_flow": null,
            "grid_area": null,
            "grid_auto_columns": null,
            "grid_auto_flow": null,
            "grid_auto_rows": null,
            "grid_column": null,
            "grid_gap": null,
            "grid_row": null,
            "grid_template_areas": null,
            "grid_template_columns": null,
            "grid_template_rows": null,
            "height": null,
            "justify_content": null,
            "justify_items": null,
            "left": null,
            "margin": null,
            "max_height": null,
            "max_width": null,
            "min_height": null,
            "min_width": null,
            "object_fit": null,
            "object_position": null,
            "order": null,
            "overflow": null,
            "overflow_x": null,
            "overflow_y": null,
            "padding": null,
            "right": null,
            "top": null,
            "visibility": null,
            "width": null
          }
        },
        "db3e2e207e9b4941a97f289e184c13ae": {
          "model_module": "@jupyter-widgets/base",
          "model_name": "LayoutModel",
          "model_module_version": "1.2.0",
          "state": {
            "_model_module": "@jupyter-widgets/base",
            "_model_module_version": "1.2.0",
            "_model_name": "LayoutModel",
            "_view_count": null,
            "_view_module": "@jupyter-widgets/base",
            "_view_module_version": "1.2.0",
            "_view_name": "LayoutView",
            "align_content": null,
            "align_items": null,
            "align_self": null,
            "border": null,
            "bottom": null,
            "display": null,
            "flex": null,
            "flex_flow": null,
            "grid_area": null,
            "grid_auto_columns": null,
            "grid_auto_flow": null,
            "grid_auto_rows": null,
            "grid_column": null,
            "grid_gap": null,
            "grid_row": null,
            "grid_template_areas": null,
            "grid_template_columns": null,
            "grid_template_rows": null,
            "height": null,
            "justify_content": null,
            "justify_items": null,
            "left": null,
            "margin": null,
            "max_height": null,
            "max_width": null,
            "min_height": null,
            "min_width": null,
            "object_fit": null,
            "object_position": null,
            "order": null,
            "overflow": null,
            "overflow_x": null,
            "overflow_y": null,
            "padding": null,
            "right": null,
            "top": null,
            "visibility": null,
            "width": null
          }
        },
        "3036d070a16145f7825bcbdc74ab085d": {
          "model_module": "@jupyter-widgets/controls",
          "model_name": "DescriptionStyleModel",
          "model_module_version": "1.5.0",
          "state": {
            "_model_module": "@jupyter-widgets/controls",
            "_model_module_version": "1.5.0",
            "_model_name": "DescriptionStyleModel",
            "_view_count": null,
            "_view_module": "@jupyter-widgets/base",
            "_view_module_version": "1.2.0",
            "_view_name": "StyleView",
            "description_width": ""
          }
        },
        "22354b342ab649a781af231cfacca6b8": {
          "model_module": "@jupyter-widgets/base",
          "model_name": "LayoutModel",
          "model_module_version": "1.2.0",
          "state": {
            "_model_module": "@jupyter-widgets/base",
            "_model_module_version": "1.2.0",
            "_model_name": "LayoutModel",
            "_view_count": null,
            "_view_module": "@jupyter-widgets/base",
            "_view_module_version": "1.2.0",
            "_view_name": "LayoutView",
            "align_content": null,
            "align_items": null,
            "align_self": null,
            "border": null,
            "bottom": null,
            "display": null,
            "flex": null,
            "flex_flow": null,
            "grid_area": null,
            "grid_auto_columns": null,
            "grid_auto_flow": null,
            "grid_auto_rows": null,
            "grid_column": null,
            "grid_gap": null,
            "grid_row": null,
            "grid_template_areas": null,
            "grid_template_columns": null,
            "grid_template_rows": null,
            "height": null,
            "justify_content": null,
            "justify_items": null,
            "left": null,
            "margin": null,
            "max_height": null,
            "max_width": null,
            "min_height": null,
            "min_width": null,
            "object_fit": null,
            "object_position": null,
            "order": null,
            "overflow": null,
            "overflow_x": null,
            "overflow_y": null,
            "padding": null,
            "right": null,
            "top": null,
            "visibility": null,
            "width": null
          }
        },
        "40e3e9bbef2f4d228c49613f29093a70": {
          "model_module": "@jupyter-widgets/controls",
          "model_name": "ProgressStyleModel",
          "model_module_version": "1.5.0",
          "state": {
            "_model_module": "@jupyter-widgets/controls",
            "_model_module_version": "1.5.0",
            "_model_name": "ProgressStyleModel",
            "_view_count": null,
            "_view_module": "@jupyter-widgets/base",
            "_view_module_version": "1.2.0",
            "_view_name": "StyleView",
            "bar_color": null,
            "description_width": ""
          }
        },
        "7ab82b85fc3944e4aef5b911cd4c9b2b": {
          "model_module": "@jupyter-widgets/base",
          "model_name": "LayoutModel",
          "model_module_version": "1.2.0",
          "state": {
            "_model_module": "@jupyter-widgets/base",
            "_model_module_version": "1.2.0",
            "_model_name": "LayoutModel",
            "_view_count": null,
            "_view_module": "@jupyter-widgets/base",
            "_view_module_version": "1.2.0",
            "_view_name": "LayoutView",
            "align_content": null,
            "align_items": null,
            "align_self": null,
            "border": null,
            "bottom": null,
            "display": null,
            "flex": null,
            "flex_flow": null,
            "grid_area": null,
            "grid_auto_columns": null,
            "grid_auto_flow": null,
            "grid_auto_rows": null,
            "grid_column": null,
            "grid_gap": null,
            "grid_row": null,
            "grid_template_areas": null,
            "grid_template_columns": null,
            "grid_template_rows": null,
            "height": null,
            "justify_content": null,
            "justify_items": null,
            "left": null,
            "margin": null,
            "max_height": null,
            "max_width": null,
            "min_height": null,
            "min_width": null,
            "object_fit": null,
            "object_position": null,
            "order": null,
            "overflow": null,
            "overflow_x": null,
            "overflow_y": null,
            "padding": null,
            "right": null,
            "top": null,
            "visibility": null,
            "width": null
          }
        },
        "414ab65bb29a4ca9a4c93260d6cec6d0": {
          "model_module": "@jupyter-widgets/controls",
          "model_name": "DescriptionStyleModel",
          "model_module_version": "1.5.0",
          "state": {
            "_model_module": "@jupyter-widgets/controls",
            "_model_module_version": "1.5.0",
            "_model_name": "DescriptionStyleModel",
            "_view_count": null,
            "_view_module": "@jupyter-widgets/base",
            "_view_module_version": "1.2.0",
            "_view_name": "StyleView",
            "description_width": ""
          }
        }
      }
    }
  },
  "cells": [
    {
      "cell_type": "markdown",
      "metadata": {
        "id": "BlRBhMZtdf94"
      },
      "source": [
        "# Download dataset with Pytorch\n",
        "\n"
      ]
    },
    {
      "cell_type": "markdown",
      "metadata": {
        "id": "BNE5Qqw_rdsV"
      },
      "source": [
        "## Load the data"
      ]
    },
    {
      "cell_type": "code",
      "metadata": {
        "id": "vKAZ-aQtrg8q",
        "colab": {
          "base_uri": "https://localhost:8080/",
          "height": 84,
          "referenced_widgets": [
            "33ffcf917560498591677fb4f9681a42",
            "6e403e7efc6948808a9f8604cef926d9",
            "58eb846f906a486a9547df0df9581b2c",
            "a38b9bb3eba74687a7dfcc9accebc6ca",
            "f3c485e6ed0d49d58cdd01ebbf10ced7",
            "db3e2e207e9b4941a97f289e184c13ae",
            "3036d070a16145f7825bcbdc74ab085d",
            "22354b342ab649a781af231cfacca6b8",
            "40e3e9bbef2f4d228c49613f29093a70",
            "7ab82b85fc3944e4aef5b911cd4c9b2b",
            "414ab65bb29a4ca9a4c93260d6cec6d0"
          ]
        },
        "outputId": "5acf20bd-88ba-42fa-9fb5-30b0328e8cc8"
      },
      "source": [
        "from torchvision import models, datasets, transforms\n",
        "from torch.utils.data import DataLoader, random_split\n",
        "import numpy as np\n",
        "from PIL import Image\n",
        "\n",
        "\n",
        "# Define transformation for each image\n",
        "transform  = transforms.Compose([\n",
        "    transforms.Lambda(lambda x: np.array(x).flatten()) #Stretch image into row [32,32,3] -> [3072]\n",
        "])\n",
        "\n",
        "# Download a CIFAR10 dataset\n",
        "dataset = datasets.CIFAR10(\"content\",\n",
        "                           train=True,\n",
        "                           transform = transform,\n",
        "                           download=True)\n"
      ],
      "execution_count": null,
      "outputs": [
        {
          "output_type": "stream",
          "name": "stdout",
          "text": [
            "Downloading https://www.cs.toronto.edu/~kriz/cifar-10-python.tar.gz to content/cifar-10-python.tar.gz\n"
          ]
        },
        {
          "output_type": "display_data",
          "data": {
            "text/plain": [
              "  0%|          | 0/170498071 [00:00<?, ?it/s]"
            ],
            "application/vnd.jupyter.widget-view+json": {
              "version_major": 2,
              "version_minor": 0,
              "model_id": "33ffcf917560498591677fb4f9681a42"
            }
          },
          "metadata": {}
        },
        {
          "output_type": "stream",
          "name": "stdout",
          "text": [
            "Extracting content/cifar-10-python.tar.gz to content\n"
          ]
        }
      ]
    },
    {
      "cell_type": "markdown",
      "metadata": {
        "id": "I3F4IoDErlcw"
      },
      "source": [
        "## Split dataset & define dataloaders"
      ]
    },
    {
      "cell_type": "code",
      "metadata": {
        "id": "Fu02DmABYxoh",
        "colab": {
          "base_uri": "https://localhost:8080/",
          "height": 84
        },
        "outputId": "b71521d9-6692-4a9b-c5a8-6577a04aa126"
      },
      "source": [
        "train_ds, val_ds, _= random_split(dataset, [20000,1000 ,29000])\n",
        "batch_size = 256\n",
        "\n",
        "train_loader = DataLoader(train_ds, batch_size = batch_size)\n",
        "val_loader = DataLoader(val_ds, batch_size = batch_size)\n",
        "\n",
        "# Display one image\n",
        "for images, class_nums in train_loader:\n",
        "  print (images.shape,class_nums.shape) # class_nums are tensor!\n",
        "  display(Image.fromarray(images[0].reshape((32,32,3)).numpy()),class_nums[0].item()) \n",
        "  break \n"
      ],
      "execution_count": null,
      "outputs": [
        {
          "output_type": "stream",
          "name": "stdout",
          "text": [
            "torch.Size([256, 3072]) torch.Size([256])\n"
          ]
        },
        {
          "output_type": "display_data",
          "data": {
            "text/plain": [
              "<PIL.Image.Image image mode=RGB size=32x32 at 0x7FEA608FFC10>"
            ],
            "image/png": "[encoded data removed]"
          },
          "metadata": {}
        },
        {
          "output_type": "display_data",
          "data": {
            "text/plain": [
              "6"
            ]
          },
          "metadata": {}
        }
      ]
    },
    {
      "cell_type": "markdown",
      "metadata": {
        "id": "GqC6xXhSeUPr"
      },
      "source": [
        "# Implement LinearClassifier class for CIFAR10"
      ]
    },
    {
      "cell_type": "code",
      "metadata": {
        "id": "vaxIJUM7eQUp"
      },
      "source": [
        "class LinearClassifier:\n",
        "  def __init__(self, labels, ):\n",
        "    self.labels = labels\n",
        "    self.classes_num = len(labels)\n",
        "    self.W = np.random.randn(3072, self.classes_num) * 0.0001\n",
        "    self.batch_size = 200\n",
        "\n",
        "  \n",
        "  def train(self, x_batch, y_batch, learning_rate = 1e-8):\n",
        "    \"\"\"\n",
        "      Arguments:\n",
        "        x  (numpy.array): collection of objects (batch)\n",
        "        y  (numpy.array): collection of integer \n",
        "        representing a class number for objects from x\n",
        "    \n",
        "    \"\"\"\n",
        "    loss_val, grad = self.loss(x_batch, y_batch)\n",
        "    self.W += -learning_rate * grad # update weights\n",
        "    return loss_val/x_batch.shape[0]\n",
        "      \n",
        "  def loss(self, x, y):\n",
        "    \"\"\"\n",
        "      Arguments:\n",
        "        x  (numpy.array): collection of objects (batch)\n",
        "        y  (numpy.array): collection of integer \n",
        "        representing a class number for objects from x\n",
        "\n",
        "    \"\"\"\n",
        "    # calculate bias\n",
        "    probabilities = np.dot(x, self.W)\n",
        "    real_values = probabilities[range(x.shape[0]), list(y)].reshape(-1, 1)\n",
        "    bias = np.maximum(0, probabilities - real_values + 1)\n",
        "    bias[range(x.shape[0]), list(y)] = 0\n",
        "\n",
        "    # calculate loss on current iteration\n",
        "    loss = np.sum(bias) / x.shape[0] + 0.5 * np.sum(self.W * self.W)\n",
        "\n",
        "    # calculate gradient\n",
        "    mask = np.zeros((x.shape[0], self.W.shape[1]))\n",
        "    mask[bias > 0] = 1\n",
        "    mask[range(x.shape[0]), list(y)] = 0\n",
        "    mask[range(x.shape[0]), list(y)] = -np.sum(mask, axis=1)\n",
        "\n",
        "    dW = np.dot(x.T, mask) / (x.shape[0] + self.W)\n",
        "    return loss, dW\n",
        "\n",
        "  def predict(self,x):\n",
        "    # optionally you can add some preprocessing here \n",
        "    scores = x.dot(self.W) \n",
        "    return np.argmax(scores,axis = 1)\n"
      ],
      "execution_count": null,
      "outputs": []
    },
    {
      "cell_type": "markdown",
      "metadata": {
        "id": "cyVPgrr5xjhU"
      },
      "source": [
        "# Train model"
      ]
    },
    {
      "cell_type": "markdown",
      "metadata": {
        "id": "v5zVN1kHd43W"
      },
      "source": [
        "## Function for accuracy checking\n",
        "\n",
        "Don't change this code"
      ]
    },
    {
      "cell_type": "code",
      "metadata": {
        "id": "dzhRClCsdzJw"
      },
      "source": [
        "from sklearn.metrics import accuracy_score\n",
        "\n",
        "def validate(model,dataloader):\n",
        "  y_predicted = np.array([])\n",
        "  y_gtrue = np.array([])\n",
        "  for images, class_nums in dataloader:\n",
        "    index = model.predict(images.numpy())\n",
        "    y_predicted = np.append(y_predicted,index) \n",
        "    y_gtrue = np.append(y_gtrue,class_nums.numpy()) \n",
        "  return accuracy_score(y_gtrue, y_predicted)  "
      ],
      "execution_count": null,
      "outputs": []
    },
    {
      "cell_type": "markdown",
      "metadata": {
        "id": "HQr1qYUlxq7X"
      },
      "source": [
        "## Train loop\n",
        "Let's train our model"
      ]
    },
    {
      "cell_type": "code",
      "metadata": {
        "id": "phcDEj7OdpGS",
        "outputId": "cf3e69e7-e060-4590-9761-33138f64aa9a",
        "colab": {
          "base_uri": "https://localhost:8080/"
        }
      },
      "source": [
        "model = LinearClassifier(dataset.classes)\n",
        "best_accuracy = 0\n",
        "for epoch in range(25):\n",
        "  for images, class_nums in train_loader:\n",
        "    loss = model.train(images.numpy(), class_nums.numpy())\n",
        "    accuracy = validate(model,val_loader)\n",
        "  if best_accuracy < accuracy:\n",
        "     best_accuracy = accuracy\n",
        "  print(f\"Epoch {epoch} Loss: {loss}, Accuracy:{accuracy}\")\n",
        "\n",
        "print(f\"Best accuracy is {best_accuracy}\")"
      ],
      "execution_count": null,
      "outputs": [
        {
          "output_type": "stream",
          "name": "stdout",
          "text": [
            "Epoch 0 Loss: 0.21397903106570995, Accuracy:0.225\n",
            "Epoch 1 Loss: 0.19508484376149388, Accuracy:0.267\n",
            "Epoch 2 Loss: 0.18810333510572902, Accuracy:0.294\n",
            "Epoch 3 Loss: 0.1832647208381437, Accuracy:0.31\n",
            "Epoch 4 Loss: 0.1783168089390085, Accuracy:0.311\n",
            "Epoch 5 Loss: 0.17439019769436184, Accuracy:0.306\n",
            "Epoch 6 Loss: 0.17107973592504977, Accuracy:0.315\n",
            "Epoch 7 Loss: 0.16821271348384423, Accuracy:0.317\n",
            "Epoch 8 Loss: 0.16569344159948735, Accuracy:0.318\n",
            "Epoch 9 Loss: 0.16319924827593885, Accuracy:0.325\n",
            "Epoch 10 Loss: 0.16057628705792523, Accuracy:0.328\n",
            "Epoch 11 Loss: 0.158621853453134, Accuracy:0.326\n",
            "Epoch 12 Loss: 0.1568345815252059, Accuracy:0.336\n",
            "Epoch 13 Loss: 0.15513479016037168, Accuracy:0.338\n",
            "Epoch 14 Loss: 0.15378236216912788, Accuracy:0.336\n",
            "Epoch 15 Loss: 0.15270962205096145, Accuracy:0.337\n",
            "Epoch 16 Loss: 0.15142201313063006, Accuracy:0.336\n",
            "Epoch 17 Loss: 0.15034080624212823, Accuracy:0.336\n",
            "Epoch 18 Loss: 0.14923282577963995, Accuracy:0.334\n",
            "Epoch 19 Loss: 0.1481922490017011, Accuracy:0.333\n",
            "Epoch 20 Loss: 0.14721519429873503, Accuracy:0.335\n",
            "Epoch 21 Loss: 0.14610644113298904, Accuracy:0.338\n",
            "Epoch 22 Loss: 0.1449827196739397, Accuracy:0.339\n",
            "Epoch 23 Loss: 0.14404228465127208, Accuracy:0.333\n",
            "Epoch 24 Loss: 0.142998707558352, Accuracy:0.333\n",
            "Best accuracy is 0.339\n"
          ]
        }
      ]
    },
    {
      "cell_type": "markdown",
      "metadata": {
        "id": "D4tIFR5bwZFi"
      },
      "source": [
        "# Check model on test dataset\n",
        "\n",
        "You must get accuracy above 0.35\n"
      ]
    },
    {
      "cell_type": "code",
      "metadata": {
        "id": "MM0pWYJlwibm",
        "outputId": "cbacc7a4-90ed-4bb0-fbc1-41a8a07f4684",
        "colab": {
          "base_uri": "https://localhost:8080/"
        }
      },
      "source": [
        "test_dataset = datasets.CIFAR10(\"content\",\n",
        "                           train=False,\n",
        "                           transform = transform, # Transforms stay the same\n",
        "                           download=True)\n",
        "\n",
        "test_loader = DataLoader(test_dataset, batch_size = batch_size)\n",
        "\n",
        "accuracy = validate(model,test_loader)\n",
        "print(f\"Accuracy on test:{accuracy}\")\n"
      ],
      "execution_count": null,
      "outputs": [
        {
          "output_type": "stream",
          "name": "stdout",
          "text": [
            "Files already downloaded and verified\n",
            "Accuracy on test:0.3559\n"
          ]
        }
      ]
    },
    {
      "cell_type": "markdown",
      "metadata": {
        "id": "ZsImxpggG8bH"
      },
      "source": [
        "# Place for brief conclusion\n",
        "\n",
        "After long struggle classical loss function was implemented.<br>\n",
        "The main problem was gradient calculation, but after some research it was finally overcome.<br>\n",
        "Seems that I've understood the logics of linear classification.<br>\n",
        "Unfortunately, I have no more time for extra work."
      ]
    },
    {
      "cell_type": "markdown",
      "metadata": {
        "id": "lJ13OmfCEb1w"
      },
      "source": [
        "# Ideas for extra work\n",
        "\n",
        "- Implenment CrossEntropyLoss function\n",
        "- Implement bias trick\n",
        "- Add regularization to SVM loss\n",
        "- Find best learning rate and regularization strength using Cross-Validation\n",
        "- Normalize data\n",
        "\n",
        "\n",
        " "
      ]
    }
  ]
}